{
 "cells": [
  {
   "cell_type": "markdown",
   "id": "e7102294",
   "metadata": {},
   "source": [
    "# --- \n",
    "# title: \"MAS: Trabalho de Grupo\"\n",
    "# author: \"nome do representante do grupo\"\n",
    "# date: \"21 de março, 2023\"\n",
    "# output: word_document\n",
    "# ---\n",
    "# Preencher a identificação do grupo:  \n",
    "### **NÚMERO DO GRUPO:**    \n",
    "### **LISTA DE TODOS OS ELEMENTOS DO GRUPO (Número - nome):** \n",
    "\n",
    "\n"
   ]
  },
  {
   "cell_type": "code",
   "execution_count": null,
   "id": "83c60cf2",
   "metadata": {},
   "outputs": [],
   "source": [
    "\n",
    "\n",
    "\n",
    "\n",
    "\n",
    "\n",
    "\n",
    "\n",
    "\n",
    "\n",
    "\n",
    "\n",
    "\n",
    "\n",
    "\n",
    "\n"
   ]
  },
  {
   "cell_type": "markdown",
   "id": "c78678a7",
   "metadata": {},
   "source": [
    "# O Trabalho de Grupo de *Métodos de Aprendizagem Supervisionada* refere-se à análise do data set \"Consumo.Jovens.csv\". \n",
    "\n",
    "# Neste data set incluem-se 1523 registos e 28 atributos listados a seguir:\n",
    "\n",
    "## **q0**: País de residência  \n",
    "## **q1**: Sexo  \n",
    "## **q2**: Idade  \n",
    "## **q3**: Situação estudantil  \n",
    "## **q10**: Compra produtos de marca? (1-Sim; 2-Não)  \n",
    "## **q12b_a**: Compra em centros comerciais? (1-Sim; 0-Não)  \n",
    "## **q12b_b**: Compra em super/hipermercados? (1-Sim; 0-Não)  \n",
    "## **q12b_c**: Compra no comércio local? (1-Sim; 0-Não)  \n",
    "## **q13a**: Fidelidade a marcas? (1-Sim; 0-Não)  \n",
    "## **q13b**: Fidelidade a lojas? (1-Sim; 0-Não)  \n",
    "\n",
    "# Variáveis q14 na Escala 1-Nada Importante, 2, 3, 4, 5-Extremamente importante)   \n",
    "## **q14a**: Preço  \n",
    "## **q14b**: Necessidade do produto  \n",
    "## **q14c**: Conveniência da localização da loja  \n",
    "## **q14d**: Qualidade do produto  \n",
    "## **q14e**: Imagem do produto  \n",
    "## **q14f**: Imagem da loja  \n",
    "## **q14g**: Características do produto  \n",
    "## **q14h**: Promoção especial  \n",
    "## **q14i**: Imagem da marca  \n",
    "## **q14j**: Publicidade  \n",
    "\n",
    "# Variáveis q19 na Escala 1-Discordo Completamente, 2, 3, 4, 5-Concordo Completamente)  \n",
    "## **q19_1**: Alguns dos feitos + importantes da vida incluem adquirir bens materiais  \n",
    "## **q19_2**: Não dou importância à quantidade de bens materiais  \n",
    "## **q19_3**: Gosto de ter coisas para impressionar as pessoas    \n",
    "## **q19_4**: Geralmente compro apenas aquilo de que preciso  \n",
    "## **q19_5**: Gosto de gastar dinheiro em coisas que não são necessárias  \n",
    "## **q19_6**: Comprar coisas dá-me imenso prazer  \n",
    "## **q19_7**: Tenho todas as coisas de que preciso para ser feliz  \n",
    "## **q19_8**: Seria mais feliz se tivesse dinheiro para comprar mais coisas   \n",
    "\n",
    "\n",
    "\n",
    "# Notas:\n",
    "## 1. Efetuar todos os Save com \"Save with encoding UTF-8\" de modo a manter palavras acentuadas e caracteres especiais**\n",
    "\n",
    "## 2. A cotação está anexa a cada pergunta \n",
    "\n",
    "## 3. **OS ALUNOS QUE NÃO SUBMETEREM PDF NO MOODLE TERÃO UMA PENALIZAÇÃO DE 1 VALOR; SE, O FICHEIRO ALTERNATIVO QUE SUBMETEREM (VIA EMAIL) REPORTAR ERROS NA COMPILAÇÃO, TERÃO UMA PENALIZAÇÃO ADICIONAL DE 1 VALOR**  "
   ]
  },
  {
   "cell_type": "markdown",
   "id": "4faeffad",
   "metadata": {},
   "source": []
  },
  {
   "cell_type": "markdown",
   "id": "5c22196a",
   "metadata": {},
   "source": [
    "# Remover tudo!\n",
    "\n",
    "# Incluir as libraries de que necessita"
   ]
  },
  {
   "cell_type": "code",
   "execution_count": null,
   "id": "44f084eb",
   "metadata": {},
   "outputs": [],
   "source": [
    "\n",
    "\n",
    "\n",
    "\n",
    "\n",
    "\n"
   ]
  },
  {
   "cell_type": "markdown",
   "id": "5b3be5ef",
   "metadata": {},
   "source": [
    "# 1.\tLeitura dos dados \"Consumo.Jovens.csv\" e análise preliminar dos mesmos  \n",
    "\n",
    "## 1.1) [1 valor] Leitura dos dados; apresentação de dimensão e estrutura dos dados; verificação do número de casos com dados em falta (para todos os atributos); sumário dos dados completos (depois de eliminação dos casos/linhas com dados omissos )\n"
   ]
  },
  {
   "cell_type": "code",
   "execution_count": 2,
   "id": "7ff5fd17",
   "metadata": {},
   "outputs": [],
   "source": [
    "# Leitura dos dados (Nota: verifique sep no ficheiro de origem)\n",
    "CJ<-read.csv(\"Consumo.Jovens.csv\", header=TRUE, dec=\".\",na.strings=\"\", sep=\";\",stringsAsFactors = TRUE)\n",
    "\n",
    "# apresentação de dimensão e estrutura dos dados.  \n",
    "\n",
    "\n",
    "# Verificação do número de casos com dados em falta (para todos os atributos) \n",
    "\n",
    "\n",
    "# eliminação dos casos/linhas com dados omissos \n",
    "CJ<-na.omit(CJ)\n",
    "\n",
    "# sumário dos dados completos\n",
    "\n"
   ]
  },
  {
   "cell_type": "markdown",
   "id": "94a79aae",
   "metadata": {},
   "source": [
    "## 1.2) [1.5 valores] Breve análise descritiva de q0, q1, q2 e q3."
   ]
  },
  {
   "cell_type": "code",
   "execution_count": 3,
   "id": "d66d8012",
   "metadata": {},
   "outputs": [],
   "source": [
    "# q0: País de residência\n",
    "\n",
    "\n",
    "# q1: Sexo\n",
    "\n",
    "\n",
    "# q2: Idade\n",
    "\n",
    "\n",
    "# q3: Situação estudantil \n",
    "\n",
    "\n"
   ]
  },
  {
   "cell_type": "markdown",
   "id": "f4a05744",
   "metadata": {},
   "source": [
    "## 1.3) [1.5 valores] Cálculo (e apresentação) de medidas de associação entre as variáveis: a)  q14a…q14j; b) q0 e as variáveis q19_1…q19_8; c) q10 e q1\n"
   ]
  },
  {
   "cell_type": "code",
   "execution_count": 4,
   "id": "855dbfbc",
   "metadata": {},
   "outputs": [],
   "source": [
    "# a) q14a…q14j\n",
    "\n",
    "\n",
    "# b) q0 e as variáveis q19_1…q19_8\n",
    "\n",
    "\n",
    "# c) q10 e q1\n",
    "\n",
    "\n"
   ]
  },
  {
   "cell_type": "markdown",
   "id": "c3435d76",
   "metadata": {},
   "source": [
    "## 1.4) [1 valor] Divisão dos dados em amostra de treino (60%)- CJ.train - e de teste (40%) – CJ.test - usando set.seed(444);apresentação de tabela de frequências relativas de q1 em cada amostra"
   ]
  },
  {
   "cell_type": "code",
   "execution_count": 5,
   "id": "e1080674",
   "metadata": {},
   "outputs": [],
   "source": [
    "set.seed(444)\n",
    "\n",
    "#CJ.train\n",
    "\n",
    "\n",
    "#CJ.test\n",
    "\n",
    "\n"
   ]
  },
  {
   "cell_type": "markdown",
   "id": "ecdfe6fc",
   "metadata": {},
   "source": [
    "## 1.5) [1 valor] Completação das frases seguintes:\n",
    "### Inicialmente, o número de casos omissos na variável q1 era **_________**. No conjunto de dados em análise (depois de eliminar os registos com observações omissas) o número de estudantes trabalhadores é igual a **_________**. A correlação mais elevada entre o pares de variáveis q14 tem o valor **_________**. A correlação maior entre a variável q0 e as variáveis q19_ regista-se para a variável q19_**_________**"
   ]
  },
  {
   "cell_type": "markdown",
   "id": "29c28d26",
   "metadata": {},
   "source": [
    "# 2. Regressão: utilização do K-Nearest Neighbour para prever q19_8 com base nas variáveis q12b_a , q12b_b, q12b_c, q13a e q13b.\n",
    "\n",
    "## 2.1) [2 valores] Aprendizagem sobre CJ.train[,c(6:10)] e considerando y=y=CJ.train$q19_8 recorrendo a one-hold-out validation; determinação de um “melhor” valor de K atendendo ao Sum of Squares Error. "
   ]
  },
  {
   "cell_type": "code",
   "execution_count": null,
   "id": "fe350aaa",
   "metadata": {},
   "outputs": [],
   "source": [
    "\n",
    "\n",
    "\n",
    "\n"
   ]
  },
  {
   "cell_type": "markdown",
   "id": "506bf70c",
   "metadata": {},
   "source": [
    "## 2.2) [2 valores] Considerando o “melhor” valor de K (v. 2.1), obtenção de estimativas do alvo e listagem dos 6 primeiros valores estimados nos conjuntos CJ.train e CJ.test  "
   ]
  },
  {
   "cell_type": "code",
   "execution_count": 7,
   "id": "34eb7181",
   "metadata": {},
   "outputs": [],
   "source": [
    "# estimativas sobre CJ.test\n",
    "\n",
    "\n",
    "\n",
    "\n",
    "# estimativas sobre CJ train \n",
    "\n",
    "\n",
    "\n"
   ]
  },
  {
   "cell_type": "markdown",
   "id": "be4e01ee",
   "metadata": {},
   "source": [
    "## 2.3) [2 valores] Determinação de Sum of Squares Error e de Root Mean Squared Error (RMSE) correspondentes às estimativas obtidas pelo KNN em 2.2) para as amostras CJ.train e CJ.test"
   ]
  },
  {
   "cell_type": "code",
   "execution_count": 8,
   "id": "7d477a0c",
   "metadata": {},
   "outputs": [],
   "source": [
    "# Métricas sobre CJ.train\n",
    "\n",
    "\n",
    "\n",
    "\n",
    "# Métricas sobre CJ.test\n",
    "\n",
    "\n",
    "\n"
   ]
  },
  {
   "cell_type": "markdown",
   "id": "2eb7b5c5",
   "metadata": {},
   "source": [
    "## 2.4) [1 valor] Completação das frases seguintes:\n",
    "\n",
    "### O “melhor” valor de K, para K-NN, obtido segundo validação hold-one-out sobre a amostra de treino é **____________**;o valor estimado do alvo para a 1ª observação do conjunto de teste é **____________**;  neste conjunto obtém-se um RMSE de**_______** e um SSE de **_______**. \n",
    ". "
   ]
  },
  {
   "cell_type": "markdown",
   "id": "50e2f1a5",
   "metadata": {},
   "source": [
    "# 3. Classificação: utilização de uma Árvore para prever q10 (Compra ou não compra produtos de marca) considerando 4 preditores: q12b_a, q13a, q14e e q14i.  \n",
    "## 3.1) [2 valores] Construção de uma Árvore de classificação sobre CJ.train efetuando a sua poda de modo a fixar 15 nós folha (para prever q10 com base nos preditores q12b_a, q13a, q14e e q14i)"
   ]
  },
  {
   "cell_type": "code",
   "execution_count": null,
   "id": "dea357cb",
   "metadata": {},
   "outputs": [],
   "source": [
    "\n",
    "\n",
    "\n",
    "\n"
   ]
  },
  {
   "cell_type": "markdown",
   "id": "9f183870",
   "metadata": {},
   "source": [
    "## 3.2) [2 valores] Representações da Árvore de Classificação: a) Lista indentada; b) Gráfico da Árvore "
   ]
  },
  {
   "cell_type": "code",
   "execution_count": null,
   "id": "3989d528",
   "metadata": {},
   "outputs": [],
   "source": [
    "# a)\n",
    "\n",
    "\n",
    "\n",
    "# b)\n",
    "\n",
    "\n"
   ]
  },
  {
   "cell_type": "markdown",
   "id": "a3ff94b2",
   "metadata": {},
   "source": [
    "## 3.3) [2 valores] Obtenção, sobre as amostras CJ.train e CJ.test, das \"Matrizes de Confusão\" e correspondentes medidas Accuracy associadas à Árvore de Classificação "
   ]
  },
  {
   "cell_type": "code",
   "execution_count": 9,
   "id": "1fa8fef1",
   "metadata": {},
   "outputs": [],
   "source": [
    "# \"Matriz de confusão\" e accuracy sobre CJ.train\n",
    "\n",
    "\n",
    "\n",
    "# \"Matriz de confusão\"e accuracy sobre CJ.test\n",
    "\n",
    "\n",
    "\n"
   ]
  },
  {
   "cell_type": "markdown",
   "id": "5f0e4ae6",
   "metadata": {},
   "source": [
    "## 3.4) [1 valor] Completação das frases seguintes:\n",
    "\n",
    "### A árvore obtida, classifica as observações do nó folha 73) na classe **_____**; o nó folha com o maior número de observações de treino é o nó **_____**; no conjunto de teste o número de observações corretamente classificadas nas classes \"Não\" e \"Sim\" é **_____** e **_____**. respetivamente."
   ]
  }
 ],
 "metadata": {
  "kernelspec": {
   "display_name": "R",
   "language": "R",
   "name": "ir"
  },
  "language_info": {
   "codemirror_mode": "r",
   "file_extension": ".r",
   "mimetype": "text/x-r-source",
   "name": "R",
   "pygments_lexer": "r",
   "version": "3.6.1"
  }
 },
 "nbformat": 4,
 "nbformat_minor": 5
}
